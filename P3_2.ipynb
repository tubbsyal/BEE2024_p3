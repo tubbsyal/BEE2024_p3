{
 "cells": [
  {
   "cell_type": "code",
   "execution_count": 4,
   "id": "69906f9a",
   "metadata": {},
   "outputs": [
    {
     "name": "stdout",
     "output_type": "stream",
     "text": [
      "Requirement already satisfied: regex in /Users/alex/opt/anaconda3/lib/python3.9/site-packages (2021.8.3)\r\n",
      "Requirement already satisfied: requests in /Users/alex/opt/anaconda3/lib/python3.9/site-packages (2.26.0)\r\n",
      "Requirement already satisfied: hydra-core in /Users/alex/opt/anaconda3/lib/python3.9/site-packages (1.3.2)\r\n",
      "Requirement already satisfied: omegaconf in /Users/alex/opt/anaconda3/lib/python3.9/site-packages (2.3.0)\r\n",
      "Requirement already satisfied: urllib3<1.27,>=1.21.1 in /Users/alex/opt/anaconda3/lib/python3.9/site-packages (from requests) (1.26.7)\r\n",
      "Requirement already satisfied: idna<4,>=2.5 in /Users/alex/opt/anaconda3/lib/python3.9/site-packages (from requests) (3.2)\r\n",
      "Requirement already satisfied: charset-normalizer~=2.0.0 in /Users/alex/opt/anaconda3/lib/python3.9/site-packages (from requests) (2.0.4)\r\n",
      "Requirement already satisfied: certifi>=2017.4.17 in /Users/alex/opt/anaconda3/lib/python3.9/site-packages (from requests) (2021.10.8)\r\n",
      "Requirement already satisfied: packaging in /Users/alex/opt/anaconda3/lib/python3.9/site-packages (from hydra-core) (21.0)\r\n",
      "Requirement already satisfied: antlr4-python3-runtime==4.9.* in /Users/alex/opt/anaconda3/lib/python3.9/site-packages (from hydra-core) (4.9.3)\r\n",
      "Requirement already satisfied: PyYAML>=5.1.0 in /Users/alex/opt/anaconda3/lib/python3.9/site-packages (from omegaconf) (6.0)\r\n",
      "Requirement already satisfied: pyparsing>=2.0.2 in /Users/alex/opt/anaconda3/lib/python3.9/site-packages (from packaging->hydra-core) (3.0.4)\r\n"
     ]
    }
   ],
   "source": [
    "!pip install regex requests hydra-core omegaconf"
   ]
  },
  {
   "cell_type": "code",
   "execution_count": 5,
   "id": "80e4d757",
   "metadata": {},
   "outputs": [
    {
     "ename": "ModuleNotFoundError",
     "evalue": "No module named 'torch'",
     "output_type": "error",
     "traceback": [
      "\u001b[0;31m---------------------------------------------------------------------------\u001b[0m",
      "\u001b[0;31mModuleNotFoundError\u001b[0m                       Traceback (most recent call last)",
      "Input \u001b[0;32mIn [5]\u001b[0m, in \u001b[0;36m<cell line: 1>\u001b[0;34m()\u001b[0m\n\u001b[0;32m----> 1\u001b[0m \u001b[38;5;28;01mimport\u001b[39;00m \u001b[38;5;21;01mtorch\u001b[39;00m\n\u001b[1;32m      2\u001b[0m roberta \u001b[38;5;241m=\u001b[39m torch\u001b[38;5;241m.\u001b[39mhub\u001b[38;5;241m.\u001b[39mload(\u001b[38;5;124m'\u001b[39m\u001b[38;5;124mpytorch/fairseq\u001b[39m\u001b[38;5;124m'\u001b[39m, \u001b[38;5;124m'\u001b[39m\u001b[38;5;124mroberta.large\u001b[39m\u001b[38;5;124m'\u001b[39m)\n\u001b[1;32m      3\u001b[0m roberta\u001b[38;5;241m.\u001b[39meval()\n",
      "\u001b[0;31mModuleNotFoundError\u001b[0m: No module named 'torch'"
     ]
    }
   ],
   "source": [
    "import torch\n",
    "roberta = torch.hub.load('pytorch/fairseq', 'roberta.large')\n",
    "roberta.eval()  #"
   ]
  },
  {
   "cell_type": "code",
   "execution_count": null,
   "id": "9c1d134f",
   "metadata": {},
   "outputs": [],
   "source": []
  }
 ],
 "metadata": {
  "kernelspec": {
   "display_name": "Python 3 (ipykernel)",
   "language": "python",
   "name": "python3"
  },
  "language_info": {
   "codemirror_mode": {
    "name": "ipython",
    "version": 3
   },
   "file_extension": ".py",
   "mimetype": "text/x-python",
   "name": "python",
   "nbconvert_exporter": "python",
   "pygments_lexer": "ipython3",
   "version": "3.9.7"
  }
 },
 "nbformat": 4,
 "nbformat_minor": 5
}
